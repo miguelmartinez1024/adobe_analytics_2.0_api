{
 "cells": [
  {
   "cell_type": "markdown",
   "metadata": {},
   "source": [
    "## Adobe Analytics 2.0 API"
   ]
  },
  {
   "cell_type": "markdown",
   "metadata": {},
   "source": [
    "### Gather credentials"
   ]
  },
  {
   "cell_type": "code",
   "execution_count": null,
   "metadata": {},
   "outputs": [],
   "source": [
    "\n",
    "# To authenticate you will need to take update 'sample.ini' with your credentials, then rename the file to 'config.ini'\n",
    "import configparser\n",
    "\n",
    "config = configparser.ConfigParser()\n",
    "config.read('config.ini')\n",
    "\n",
    "org_id = config['JWT']['org_id']\n",
    "tech_account_id = config['JWT']['tech_account_id']\n",
    "api_key = config['JWT']['api_key']\n",
    "client_secret = config['JWT']['client_secret']\n",
    "private_key_path = config['JWT']['private_key_path']"
   ]
  },
  {
   "cell_type": "markdown",
   "metadata": {},
   "source": [
    "### Get Token\n",
    "Create JWT and retrieve access token"
   ]
  },
  {
   "cell_type": "code",
   "execution_count": null,
   "metadata": {},
   "outputs": [],
   "source": [
    "from helper import adobe_helper\n",
    "import importlib\n",
    "import pprint\n",
    "import pandas as pd\n",
    "# importlib.reload(adobe_helper)\n",
    "\n",
    "token_response = adobe_helper.getToken(\n",
    "    org_id,\n",
    "    tech_account_id,\n",
    "    api_key,\n",
    "    client_secret,\n",
    "    private_key_path)\n",
    "\n",
    "access_token = token_response['access_token']\n",
    "print('Access Token Ready:', access_token)\n"
   ]
  },
  {
   "cell_type": "markdown",
   "metadata": {},
   "source": [
    "## Discover Me\n",
    "The discovery/me API returns information on the user's company that is necessary for making other Adobe Analytics API calls. It returns information on who is making the call by inspecting the Access Token that is sent for authentication."
   ]
  },
  {
   "cell_type": "code",
   "execution_count": null,
   "metadata": {},
   "outputs": [],
   "source": [
    "discover_me = adobe_helper.discoverMe(api_key, access_token)\n",
    "global_company_id =  discover_me['imsOrgs'][0]['companies'][0]['globalCompanyId']\n",
    "pp = pprint.PrettyPrinter(indent=4)\n",
    "pp.pprint(discover_me)\n"
   ]
  },
  {
   "cell_type": "markdown",
   "metadata": {},
   "source": [
    "## Get Calculated Metrics\n",
    "The Analytics 2.0 Calculated Metrics APIs allow you to retrieve, update, or create calculated metrics programmatically through Adobe Developer. The APIs use the same data and methods that are used when working with calculated metrics in the UI. "
   ]
  },
  {
   "cell_type": "code",
   "execution_count": null,
   "metadata": {},
   "outputs": [],
   "source": [
    "# importlib.reload(adobe_helper)\n",
    "rawData = adobe_helper.get_all_calculated_metrics(\n",
    "    api_key,\n",
    "    access_token,\n",
    "    global_company_id,\n",
    "    report_suite='',\n",
    "    metric_name='',\n",
    "    include_type='shared',\n",
    "    owner='', \n",
    "    tag_names='', \n",
    "    filterByIds='')\n",
    "rawData\n"
   ]
  },
  {
   "cell_type": "code",
   "execution_count": null,
   "metadata": {},
   "outputs": [],
   "source": []
  }
 ],
 "metadata": {
  "kernelspec": {
   "display_name": "Python 3.8.8 ('base')",
   "language": "python",
   "name": "python3"
  },
  "language_info": {
   "codemirror_mode": {
    "name": "ipython",
    "version": 3
   },
   "file_extension": ".py",
   "mimetype": "text/x-python",
   "name": "python",
   "nbconvert_exporter": "python",
   "pygments_lexer": "ipython3",
   "version": "3.8.8"
  },
  "orig_nbformat": 4,
  "vscode": {
   "interpreter": {
    "hash": "ad2bdc8ecc057115af97d19610ffacc2b4e99fae6737bb82f5d7fb13d2f2c186"
   }
  }
 },
 "nbformat": 4,
 "nbformat_minor": 2
}
